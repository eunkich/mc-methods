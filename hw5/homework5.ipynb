{
 "cells": [
  {
   "attachments": {},
   "cell_type": "markdown",
   "id": "d109f61d",
   "metadata": {},
   "source": [
    "---\n",
    "title: \"CFRM 505 Homework 5\"\n",
    "author: \"Eunki Chung\"\n",
    "email: \"eunkich@uw.edu\"\n",
    "date: today\n",
    "date-format: long\n",
    "output: pdf_document\n",
    "format:\n",
    "  pdf:\n",
    "    template-partials:\n",
    "      - ../asset/title.tex\n",
    "    geometry:\n",
    "      - top=20mm\n",
    "      - bottom=20mm\n",
    "      - left=20mm\n",
    "      - right=20mm\n",
    "---"
   ]
  },
  {
   "attachments": {},
   "cell_type": "markdown",
   "id": "ea0f68a4-42e6-4024-8325-32caf216fab5",
   "metadata": {},
   "source": [
    "# Problem 1\n",
    "\n",
    "Suppose $X\\sim U(-1, 1)$ and $Y\\sim U(-1, 1)$ are i.i.d. random variables.  Consider the probability \n",
    "\n",
    "$$\\mathbb{P}\\left[X^2 + 2Y^2 < 2\\right]$$\n",
    "\n",
    "For each part, implement your method using at least $10,000$ samples.  \n"
   ]
  },
  {
   "attachments": {},
   "cell_type": "markdown",
   "id": "3500eb5a",
   "metadata": {},
   "source": [
    "The estimate of the probability is\n",
    "$$\\theta = \\mathbb{P}\\left[X^2 + 2Y^2 < 2\\right]\n",
    "= E[Z]$$\n",
    "where $Z = \\mathbb{1}_{\\{X^2 + 2Y^2 < 2\\}}(X, Y)$"
   ]
  },
  {
   "cell_type": "markdown",
   "id": "3924d881",
   "metadata": {},
   "source": [
    "\n",
    "## Part 1\n",
    "\n",
    "Estimate this probability directly by simulating both $X$ and $Y$.  Report your estimate along with a 95% confidence interval.  \n"
   ]
  },
  {
   "cell_type": "code",
   "execution_count": 2,
   "id": "e7c1d4c4",
   "metadata": {},
   "outputs": [
    {
     "name": "stdout",
     "output_type": "stream",
     "text": [
      "Direct method: \n",
      "Estimate: 0.90920\n",
      "Confidence Interval: [0.90357 0.91483]\n",
      "Error bar size = 0.00563\n"
     ]
    }
   ],
   "source": [
    "import numpy as np\n",
    "\n",
    "N = 10000\n",
    "\n",
    "X = np.random.uniform(-1, 1, N)\n",
    "Y = np.random.uniform(-1, 1, N)\n",
    "Z = (X**2 + 2 * Y ** 2) < 2\n",
    "\n",
    "zdelta = 1.96\n",
    "var = np.var(Z)\n",
    "error = zdelta * np.sqrt(var / N)\n",
    "\n",
    "print(\"Direct method: \")\n",
    "print(f\"Estimate: {np.mean(Z):.5f}\")\n",
    "print(f\"Confidence Interval: {np.round(np.mean(Z) + np.array([-1, 1]) * error, 5)}\")\n",
    "print(\"Error bar size = {:.5f}\".format(error))\n"
   ]
  },
  {
   "cell_type": "markdown",
   "id": "07b7a36c",
   "metadata": {},
   "source": [
    "\n",
    "## Part 2\n",
    "\n",
    "Estimate this probability using conditional Monte Carlo by conditioning on $X$.  Report your estimate along with a 95% confidence interval.  How much did this reduce the error from part 1?  \n"
   ]
  },
  {
   "attachments": {},
   "cell_type": "markdown",
   "id": "2ecb9f9a",
   "metadata": {},
   "source": [
    "Consider using conditional Monte Carlo by conditioning on $X$.\n",
    "$$\n",
    "\\begin{aligned}\n",
    "E[Z | X = x] &= P[X^2 + 2Y^2 < 2 | X = x] \\\\\n",
    "&= P\\left[Y^2 < \\frac{2 - x^2}{2}\\right] \\\\\n",
    "&= P\\left[-\\sqrt{\\frac{2 - x^2}{2}} < Y < \\sqrt{\\frac{2 - x^2}{2}}\\right] \\\\\n",
    "&= F_Y\\left(\\sqrt{\\frac{2 - x^2}{2}}\\right) - F_Y\\left(-\\sqrt{\\frac{2 - x^2}{2}}\\right) \\\\\n",
    "\\end{aligned}\n",
    "$$"
   ]
  },
  {
   "attachments": {},
   "cell_type": "markdown",
   "id": "cef94d9e",
   "metadata": {},
   "source": [
    "Note that cdf of $Y$ is given by, \n",
    "$$\n",
    "\\begin{aligned}\n",
    "    F_Y(y) = \n",
    "    \\begin{cases}\n",
    "    0 &\\text{if } y < -1 \\\\\n",
    "    \\frac{y+1}{2} &\\text{if } -1 \\leq y < 1 \\\\\n",
    "    1 &\\text{if } 1 \\leq y \\\\\n",
    "    \\end{cases}\n",
    "\\end{aligned}\n",
    "$$"
   ]
  },
  {
   "attachments": {},
   "cell_type": "markdown",
   "id": "6b032006",
   "metadata": {},
   "source": [
    "From the support of $X$, we have,\n",
    "$$\n",
    "\\begin{aligned}\n",
    "-1 &\\leq x \\leq 1 \\\\\n",
    "0 &\\leq x^2 \\leq 1 \\\\\n",
    "0 &\\geq -x^2 \\geq -1 \\\\\n",
    "2 &\\geq 2-x^2 \\geq 1 \\\\\n",
    "1 &\\geq \\frac{2-x^2}{2} \\geq \\frac{1}{2} \\\\\n",
    "1 &\\geq \\sqrt{\\frac{2-x^2}{2}} \\geq \\sqrt{\\frac{1}{2}} \\\\\n",
    "-1 &\\leq -\\sqrt{\\frac{2-x^2}{2}} \\leq -\\sqrt{\\frac{1}{2}} \\\\\n",
    "\\end{aligned}\n",
    "$$"
   ]
  },
  {
   "attachments": {},
   "cell_type": "markdown",
   "id": "971c6ac4",
   "metadata": {},
   "source": [
    "Thus, \n",
    "$$\n",
    "\\begin{aligned}\n",
    "E[Z | X = x] &= F_Y\\left(\\sqrt{\\frac{2 - x^2}{2}}\\right) - F_Y\\left(-\\sqrt{\\frac{2 - x^2}{2}}\\right)\\\\\n",
    "&= \\frac{\\sqrt{\\frac{2 - x^2}{2}} + 1}{2} - \\frac{-\\sqrt{\\frac{2 - x^2}{2}} + 1}{2} \\\\\n",
    "&= \\frac{2\\sqrt{\\frac{2 - x^2}{2}}}{2} \\\\\n",
    "&= \\sqrt{\\frac{2 - x^2}{2}} \\qquad \\text{for all } -1 \\leq x \\leq 1\\\\\n",
    "\\end{aligned}\n",
    "$$"
   ]
  },
  {
   "cell_type": "code",
   "execution_count": 3,
   "id": "58304058",
   "metadata": {},
   "outputs": [
    {
     "name": "stdout",
     "output_type": "stream",
     "text": [
      "Conditional Monte Carlo: \n",
      "Estimate: 0.91012\n",
      "Confidence Interval: [0.90848 0.91176]\n",
      "Error bar size = 0.00164\n",
      "Error reduction from conditioning on X = 70.90509%\n"
     ]
    }
   ],
   "source": [
    "X = np.random.uniform(-1, 1, N)\n",
    "Z = np.sqrt((2-X**2) / 2)\n",
    "\n",
    "zdelta = 1.96\n",
    "var = np.var(Z)\n",
    "error_X = zdelta * np.sqrt(var / N)\n",
    "\n",
    "print(\"Conditional Monte Carlo: \")\n",
    "print(f\"Estimate: {np.mean(Z):.5f}\")\n",
    "print(f\"Confidence Interval: {np.round(np.mean(Z) + np.array([-1, 1]) * error_X, 5)}\")\n",
    "print(\"Error bar size = {:.5f}\".format(error_X))\n",
    "print(\"Error reduction from conditioning on X = {:.5f}%\".format((1 - error_X / error) * 100))"
   ]
  },
  {
   "cell_type": "markdown",
   "id": "e0b33d3c",
   "metadata": {},
   "source": [
    "\n",
    "## Part 3\n",
    "\n",
    "Estimate this probability using conditional Monte Carlo by conditioning on $Y$.  Report your estimate along with a 95% confidence interval.  How much did this reduce the error from part 1?"
   ]
  },
  {
   "attachments": {},
   "cell_type": "markdown",
   "id": "72122793",
   "metadata": {},
   "source": [
    "Consider using conditional Monte Carlo by conditioning on $Y$.\n",
    "$$\n",
    "\\begin{aligned}\n",
    "E[Z | Y = y] &= P[X^2 + 2Y^2 < 2 | Y = y] \\\\\n",
    "&= P\\left[X^2 < 2-2y^2 \\right] \\\\\n",
    "&= P\\left[-\\sqrt{2-2y^2} < X < \\sqrt{2-2y^2}\\right] \\\\\n",
    "&= F_X\\left(\\sqrt{2-2y^2}\\right) - F_X\\left(-\\sqrt{2-2y^2}\\right) \\\\\n",
    "\\end{aligned}\n",
    "$$"
   ]
  },
  {
   "attachments": {},
   "cell_type": "markdown",
   "id": "b5620ec3",
   "metadata": {},
   "source": [
    "Note that cdf of $X$ is given by, \n",
    "$$\n",
    "\\begin{aligned}\n",
    "    F_X(x) = \n",
    "    \\begin{cases}\n",
    "    0 &\\text{if } x < -1 \\\\\n",
    "    \\frac{x+1}{2} &\\text{if } -1 \\leq x < 1 \\\\\n",
    "    1 &\\text{if } 1 \\leq x \\\\\n",
    "    \\end{cases}\n",
    "\\end{aligned}\n",
    "$$"
   ]
  },
  {
   "attachments": {},
   "cell_type": "markdown",
   "id": "34c9fd7a",
   "metadata": {},
   "source": [
    "From the support of $Y$, we have,\n",
    "$$\n",
    "\\begin{aligned}\n",
    "-1 &\\leq y \\leq 1 \\\\\n",
    "0 &\\leq y^2 \\leq 1 \\\\\n",
    "0 &\\geq -2y^2 \\geq -2 \\\\\n",
    "2 &\\geq 2-2y^2 \\geq 0 \\\\\n",
    "\\sqrt{2} &\\geq \\sqrt{2-2y^2} \\geq 0 \\\\\n",
    "-\\sqrt{2} &\\leq -\\sqrt{2-2y^2} \\leq 0 \\\\\n",
    "\\end{aligned}\n",
    "$$"
   ]
  },
  {
   "attachments": {},
   "cell_type": "markdown",
   "id": "b751bbdf",
   "metadata": {},
   "source": [
    "Notice that $\\sqrt{2-2y^2} > 1$ and $-\\sqrt{2-2y^2} < -1$ if $|y| <\n",
    "\\frac{1}{\\sqrt{2}}$. That is, "
   ]
  },
  {
   "attachments": {},
   "cell_type": "markdown",
   "id": "76b11232",
   "metadata": {},
   "source": [
    "$$\n",
    "\\begin{aligned}\n",
    "E[Z | Y = y] &= F_X\\left(\\sqrt{2-2y^2}\\right) - F_X\\left(-\\sqrt{2-2y^2}\\right) \\\\\n",
    "&= \n",
    "\\begin{cases}\n",
    "\\frac{\\sqrt{2-2y^2}+1}{2} - \\frac{-\\sqrt{2-2y^2}+1}{2} &\\text{if } |y| \\geq\n",
    "\\frac{1}{\\sqrt{2}} \\\\\n",
    "1 - 0 &\\text{if }|y| < \\frac{1}{\\sqrt{2}} \\\\\n",
    "\\end{cases} \\\\\n",
    "&= \n",
    "\\begin{cases}\n",
    "\\sqrt{2-2y^2} &\\text{if } |y| \\geq\n",
    "\\frac{1}{\\sqrt{2}} \\\\\n",
    "1 &\\text{if }|y| < \\frac{1}{\\sqrt{2}} \\\\\n",
    "\\end{cases} \\\\\n",
    "&= \\min\\{\\sqrt{2-2y^2}, 1\\}\n",
    "\\end{aligned}\n",
    "$$"
   ]
  },
  {
   "cell_type": "code",
   "execution_count": 4,
   "id": "bb8423f4",
   "metadata": {},
   "outputs": [
    {
     "name": "stdout",
     "output_type": "stream",
     "text": [
      "Conditional Monte Carlo: \n",
      "Estimate: 0.91013\n",
      "Confidence Interval: [0.90646 0.9138 ]\n",
      "Error bar size = 0.00367\n",
      "Error reduction from conditioning on Y = 34.78709%\n"
     ]
    }
   ],
   "source": [
    "Z = np.minimum(np.sqrt(2 - 2 * Y ** 2), 1)\n",
    "\n",
    "zdelta = 1.96\n",
    "var = np.var(Z)\n",
    "error_Y = zdelta * np.sqrt(var / N)\n",
    "\n",
    "print(\"Conditional Monte Carlo: \")\n",
    "print(f\"Estimate: {np.mean(Z):.5f}\")\n",
    "print(f\"Confidence Interval: {np.round(np.mean(Z) + np.array([-1, 1]) * error_Y, 5)}\")\n",
    "print(\"Error bar size = {:.5f}\".format(error_Y))\n",
    "print(\"Error reduction from conditioning on Y = {:.5f}%\".format((1 - error_Y / error) * 100))\n"
   ]
  },
  {
   "attachments": {},
   "cell_type": "markdown",
   "id": "c0766483-708b-4439-8c28-99a4309d4988",
   "metadata": {},
   "source": [
    "# Problem 2\n",
    "\n",
    "Suppose $Z\\sim N(0, 1)$ is a standard normal random variable and $X = e^{\\mu + \\sigma Z}$.  This means that $X\\sim \\textrm{Lognormal}(\\mu, \\sigma^2)$ and so its expected value is $e^{\\mu + \\sigma^2/2}$.  In the following parts, implement a method to estimate this expected value using at least $10,000$ samples.  Use $\\mu = 0.1$ and $\\sigma = 0.2$.\n"
   ]
  },
  {
   "cell_type": "markdown",
   "id": "16a459de",
   "metadata": {},
   "source": [
    "\n",
    "## Part 1\n",
    "\n",
    "Estimate the expected value directly by simulating $X$.  Report your estimate along with a 95% confidence interval.  \n"
   ]
  },
  {
   "cell_type": "code",
   "execution_count": 5,
   "id": "3183c085",
   "metadata": {},
   "outputs": [
    {
     "name": "stdout",
     "output_type": "stream",
     "text": [
      "Direct method: \n",
      "Estimate: 1.12473\n",
      "Confidence Interval: [1.12023 1.12923]\n",
      "Error bar size = 0.00450\n"
     ]
    }
   ],
   "source": [
    "N = 10000\n",
    "mu = 0.1\n",
    "sig = 0.2\n",
    "\n",
    "\n",
    "def box_muller(n=1):\n",
    "    out = np.empty(n)\n",
    "\n",
    "    m = (n + 1) // 2\n",
    "    size = (2, m)\n",
    "    lamda = 1 / 2\n",
    "\n",
    "    u1, u2 = np.random.random(size)\n",
    "\n",
    "    v = -np.log(u1) / lamda\n",
    "    w = u2 * 2 * np.pi\n",
    "\n",
    "    x = np.sqrt(v) * np.cos(w)\n",
    "    y = np.sqrt(v) * np.sin(w)\n",
    "\n",
    "    out[:m] = x\n",
    "    out[-m:] = y\n",
    "\n",
    "    return out\n",
    "\n",
    "\n",
    "Z = box_muller(N)\n",
    "X = np.exp(mu + sig * Z)\n",
    "\n",
    "zdelta = 1.96\n",
    "var = np.var(X)\n",
    "error_1 = zdelta * np.sqrt(var / N)\n",
    "\n",
    "print(\"Direct method: \")\n",
    "print(f\"Estimate: {np.mean(X):.5f}\")\n",
    "print(\n",
    "    f\"Confidence Interval: {np.round(np.mean(X) + np.array([-1, 1]) * error_1, 5)}\")\n",
    "print(\"Error bar size = {:.5f}\".format(error_1))\n"
   ]
  },
  {
   "cell_type": "markdown",
   "id": "6a0ab6d6",
   "metadata": {},
   "source": [
    "\n",
    "## Part 2\n",
    "\n",
    "Estimate the expected value using $Z$ as a control variate. You can estimate the optimal value of $c$ from your full sample (i.e., you don't have to calculate it by hand or do a separate pilot study).  Report your estimate along with a 95% confidence interval.  How much did this reduce the error from part 1?"
   ]
  },
  {
   "cell_type": "code",
   "execution_count": 6,
   "id": "5728346f",
   "metadata": {},
   "outputs": [
    {
     "name": "stdout",
     "output_type": "stream",
     "text": [
      "Control variate: \n",
      "Exact solution: 1.12750\n",
      "Estimate: 1.12791\n",
      "Estimated c: -0.22518\n",
      "Confidence Interval: [1.12728 1.12854]\n",
      "Error bar size = 0.00063\n",
      "Error reduction = 85.91827%\n"
     ]
    }
   ],
   "source": [
    "c = -np.cov(X, Z)[0, 1] / np.var(Z)\n",
    "\n",
    "X_c = X + c * (Z - 0)\n",
    "var_c = np.var(X_c)\n",
    "error_c = zdelta * np.sqrt(var_c / N)\n",
    "print(\"Control variate: \")\n",
    "print(f\"Exact solution: {np.exp(mu + sig**2/2):.5f}\")\n",
    "print(f\"Estimate: {np.mean(X_c):.5f}\")\n",
    "print(f\"Estimated c: {c:.5f}\")\n",
    "print(f\"Confidence Interval: {np.round(np.mean(X_c) + np.array([-1, 1]) * error_c, 5)}\")\n",
    "print(\"Error bar size = {:.5f}\".format(error_c))\n",
    "print(\"Error reduction = {:.5f}%\".format((1 - error_c / error_1) * 100))"
   ]
  },
  {
   "attachments": {},
   "cell_type": "markdown",
   "id": "03946ce8-4c63-4bf2-b86d-656f675ca447",
   "metadata": {},
   "source": [
    "# Problem 3\n",
    "\n",
    "Consider an asset whose value $S_t$ is governed by the SDE \n",
    "\n",
    "$$\\textrm{d}S_t = \\mu S_t\\,\\textrm{d}t + \\sigma(t) S_t\\,\\textrm{d}W_t$$\n",
    "\n",
    "where $\\mu$ is a constant and \n",
    "\n",
    "$$\\sigma(t) = 0.2 + 0.1\\sin(t)$$\n",
    "\n",
    "Use the parameters $\\mu = 0.1$, $T = 5$ and $S_0 = 1$.  \n",
    "\n",
    "For each part, implement your method using at least 100 time steps and at least $10,000$ samples.  \n"
   ]
  },
  {
   "cell_type": "code",
   "execution_count": 7,
   "id": "796aeb90",
   "metadata": {},
   "outputs": [],
   "source": [
    "mu = 0.1\n",
    "T = 5\n",
    "S0 = 1\n",
    "t = np.linspace(0, T, 100)\n",
    "dt = t[1] - t[0]\n",
    "N = 100000"
   ]
  },
  {
   "attachments": {},
   "cell_type": "markdown",
   "id": "bc729d73",
   "metadata": {},
   "source": [
    "\n",
    "## Part 1\n",
    "\n",
    "Estimate $\\mathbb{E}[S_T]$ using direct simulation.  That is, use the Euler method to simulate $S_t$ up until time $T$ at least $10,000$ times and then average the final values.  Report your estimate along with a 95% confidence interval. \n"
   ]
  },
  {
   "cell_type": "code",
   "execution_count": 8,
   "id": "bfa03fc8",
   "metadata": {},
   "outputs": [
    {
     "name": "stdout",
     "output_type": "stream",
     "text": [
      "Direct method: \n",
      "Estimate: 1.64988\n",
      "Confidence Interval: [1.63263 1.66713]\n",
      "Error bar size = 0.01725\n"
     ]
    }
   ],
   "source": [
    "sig = 0.2 + 0.1 * np.sin(t)\n",
    "N = 10000\n",
    "\n",
    "def sample_path():\n",
    "    S = np.zeros_like(t)\n",
    "    S[0] = S0\n",
    "    for i in range(len(t)-1):\n",
    "        dWt = np.sqrt(dt) * box_muller()\n",
    "        dSt = mu * S[i] * dt + sig[i] * S[i] * dWt\n",
    "        S[i+1] = S[i] + dSt\n",
    "    return S\n",
    "\n",
    "S_T = np.zeros(N)\n",
    "for i in range(N):\n",
    "    S_T[i] = sample_path()[-1]\n",
    "\n",
    "zdelta = 1.96\n",
    "var = np.var(S_T)\n",
    "error_1 = zdelta * np.sqrt(var / N)\n",
    "\n",
    "print(\"Direct method: \")\n",
    "print(f\"Estimate: {np.mean(S_T):.5f}\")\n",
    "print(f\"Confidence Interval: {np.round(np.mean(S_T) + np.array([-1, 1]) * error_1, 5)}\")\n",
    "print(\"Error bar size = {:.5f}\".format(error_1))\n"
   ]
  },
  {
   "attachments": {},
   "cell_type": "markdown",
   "id": "f01a109e",
   "metadata": {},
   "source": [
    "\n",
    "## Part 2\n",
    "\n",
    "Let $X_t$ be the value of a hypothetical asset governed by \n",
    "\n",
    "$$\\textrm{d}X_t = \\mu X_t\\,\\textrm{d}t + \\overline{\\sigma}X_t\\,\\textrm{d}W_t$$\n",
    "\n",
    "where \n",
    "\n",
    "$$\\overline{\\sigma} = \\frac{1}{T}\\int_{0}^{T}\\sigma(t)\\,\\textrm{d}t$$\n",
    "\n",
    "Notice that $X_t\\sim\\textrm{GBM}(\\mu, \\sigma)$ and so we know the distribution and expected value of $X_T$.  \n",
    "\n",
    "Estimate $\\mathbb{E}[S_T]$ using $X_T$ as a control variate.  (This means that you should use the Euler method to simulate both $S_t$ and $X_t$ with *the same* noise and use the resulting $X_T$ as a control).  You can estimate the optimal value of 𝑐 from your full sample (i.e., you don't have to calculate it by hand or do a separate pilot study).  Report your estimate along with a 95% confidence interval. How much did this reduce the error from part 1?"
   ]
  },
  {
   "cell_type": "code",
   "execution_count": 9,
   "id": "e606c3dd",
   "metadata": {},
   "outputs": [
    {
     "name": "stdout",
     "output_type": "stream",
     "text": [
      "Control variate: \n",
      "Estimate: 1.64634\n",
      "Confidence Interval: [1.64069 1.65199]\n",
      "Estimated c: -0.99924\n",
      "Error bar size = 0.00565\n",
      "Error reduction = 67.22046%\n"
     ]
    }
   ],
   "source": [
    "sig_bar = 1/T * (0.2 * T - 0.1 * np.cos(T) + 0.1)\n",
    "def sample_path():\n",
    "    S = np.zeros_like(t)\n",
    "    X = np.zeros_like(t)\n",
    "    S[0] = S0\n",
    "    X[0] = S0\n",
    "\n",
    "    for i in range(len(t)-1):\n",
    "        dWt = np.sqrt(dt) * box_muller()\n",
    "        dSt = mu * S[i] * dt + sig[i] * S[i] * dWt\n",
    "        # dXt = mu * S[i] * dt + sig_bar * dWt\n",
    "        dXt = mu * X[i] * dt + sig_bar * X[i] * dWt\n",
    "        S[i+1] = S[i] + dSt\n",
    "        X[i+1] = X[i] + dXt\n",
    "\n",
    "    return S, X\n",
    "\n",
    "S_T = np.zeros(N)\n",
    "X_T = np.zeros(N)\n",
    "\n",
    "for i in range(N):\n",
    "    S, X = sample_path()\n",
    "    S_T[i] = S[-1]\n",
    "    X_T[i] = X[-1]\n",
    "\n",
    "c = -np.cov(S_T, X_T)[0, 1] / np.var(X_T)\n",
    "S_T_c = S_T + c * (X_T - S0 * np.exp(mu * T))\n",
    "var_c = np.var(S_T_c)\n",
    "error_c = zdelta * np.sqrt(var_c / N)\n",
    "print(\"Control variate: \")\n",
    "print(f\"Estimate: {np.mean(S_T_c):.5f}\")\n",
    "print(f\"Confidence Interval: {np.round(np.mean(S_T_c) + np.array([-1, 1]) * error_c, 5)}\")\n",
    "print(f\"Estimated c: {c:.5f}\")\n",
    "print(\"Error bar size = {:.5f}\".format(error_c))\n",
    "print(\"Error reduction = {:.5f}%\".format((1 - error_c / error_1) * 100))"
   ]
  },
  {
   "attachments": {},
   "cell_type": "markdown",
   "id": "6c3d9f6d-a182-4fb0-9046-4bea578f71d7",
   "metadata": {},
   "source": [
    "# Problem 4\n",
    "\n",
    "Suppose that $X\\sim \\textrm{Exp}(1/2)$ and $Y\\sim\\textrm{Exp}(1/3)$ are independent random variables.  Consider the probability\n",
    "\n",
    "$$\\mathbb{P}[X + Y > 4]$$\n",
    "\n",
    "For each part, implement your method using at least $10,000$ samples.  \n"
   ]
  },
  {
   "attachments": {},
   "cell_type": "markdown",
   "id": "4831066d",
   "metadata": {},
   "source": [
    "\n",
    "## Part 1\n",
    "\n",
    "Estimate this probability directly by simulating both $X$ and $Y$.  Report your estimate along with a 95% confidence interval.  \n"
   ]
  },
  {
   "attachments": {},
   "cell_type": "markdown",
   "id": "3d212bd4",
   "metadata": {},
   "source": [
    "The estimate of the probability is\n",
    "$$\\theta = \\mathbb{P}\\left[X + Y > 4\\right]\n",
    "= E[Z]$$\n",
    "where $Z = \\mathbb{1}_{\\{X + Y > 4\\}}(X, Y)$"
   ]
  },
  {
   "cell_type": "code",
   "execution_count": 10,
   "id": "cfd3c6d4",
   "metadata": {},
   "outputs": [
    {
     "name": "stdout",
     "output_type": "stream",
     "text": [
      "Direct method: \n",
      "Estimate: 0.51360\n",
      "Confidence Interval: [0.5038 0.5234]\n",
      "Error bar size = 0.00980\n"
     ]
    }
   ],
   "source": [
    "N = 10000\n",
    "lam1 = 1/2\n",
    "lam2 = 1/3\n",
    "zdelta = 1.96\n",
    "\n",
    "U1 = np.random.random(N)\n",
    "U2 = np.random.random(N)\n",
    "\n",
    "X = -np.log(U1) / lam1\n",
    "Y = -np.log(U2) / lam2\n",
    "Z = (X+Y) > 4\n",
    "var = np.var(Z)\n",
    "error = zdelta * np.sqrt(var / N)\n",
    "\n",
    "print(\"Direct method: \")\n",
    "print(f\"Estimate: {np.mean(Z):.5f}\")\n",
    "print(f\"Confidence Interval: {np.round(np.mean(Z) + np.array([-1, 1]) * error, 5)}\")\n",
    "print(\"Error bar size = {:.5f}\".format(error))\n"
   ]
  },
  {
   "cell_type": "markdown",
   "id": "32a6b76a",
   "metadata": {},
   "source": [
    "\n",
    "## Part 2\n",
    "\n",
    "Estimate this probability using conditional Monte Carlo.  Choose whether to condition on $X$ or $Y$ and justify your choice.  Report your estimate along with a 95% confidence interval.  How much did this reduce the error from part 1?  "
   ]
  },
  {
   "attachments": {},
   "cell_type": "markdown",
   "id": "3dae184f",
   "metadata": {},
   "source": [
    "Since $X\\sim \\textrm{Exp}(1/2)$ and $Y\\sim\\textrm{Exp}(1/3)$, the expectations\n",
    "are given by $E[X] = 2$ and $E[Y] = 3$\n",
    "\n",
    "That is, $Y$ has a relatively higher chance to determine the value of $Z =\n",
    "\\mathbb{1}_{\\{X+Y > 4\\}}$ because X, Y are both nonnegative and Y tends to have\n",
    "a bigger value than $X$.\n",
    "\n",
    "Therefore, we can expect that conditioning on $X$ to be more effective, since $X$\n",
    "will have the smaller covariance, and thus less dependent with $Z$ than $Y$ in a relative sense."
   ]
  },
  {
   "cell_type": "code",
   "execution_count": 11,
   "id": "41f8c776",
   "metadata": {},
   "outputs": [
    {
     "name": "stdout",
     "output_type": "stream",
     "text": [
      "Cov(X, Z) = 0.4366\n",
      "Cov(Y, Z) = 0.8522\n"
     ]
    }
   ],
   "source": [
    "print(f\"Cov(X, Z) = {np.cov(X, Z)[0, 1]:.4f}\")\n",
    "print(f\"Cov(Y, Z) = {np.cov(Y, Z)[0, 1]:.4f}\")"
   ]
  },
  {
   "attachments": {},
   "cell_type": "markdown",
   "id": "a97bdc83",
   "metadata": {},
   "source": [
    "Consider using conditional Monte Carlo by conditioning on $X$.\n",
    "$$\n",
    "\\begin{aligned}\n",
    "E[Z | X = x] &= P[X + Y > 4 | X = x] \\\\\n",
    "&= P\\left[Y > 4-x \\right] \\\\\n",
    "&= 1-P\\left[Y < 4-x \\right] \\\\\n",
    "&= 1-F_Y (4-x) \\\\\n",
    "\\end{aligned}\n",
    "$$"
   ]
  },
  {
   "attachments": {},
   "cell_type": "markdown",
   "id": "e349efd1",
   "metadata": {},
   "source": [
    "Note that cdf of $Y$ is given by, \n",
    "$$\n",
    "\\begin{aligned}\n",
    "    F_Y(y) &= \n",
    "    \\begin{cases}\n",
    "    0 &\\text{if } y < 0 \\\\\n",
    "    1-e^{-y/\\lambda_Y} &\\text{if } 0 \\leq y \\\\\n",
    "    \\end{cases} \\\\\n",
    "    &=\\max\\{1-e^{-x/\\lambda_Y}, 0\\}\n",
    "\\end{aligned}\n",
    "$$"
   ]
  },
  {
   "attachments": {},
   "cell_type": "markdown",
   "id": "25549549",
   "metadata": {},
   "source": [
    "Note that the support of $X$ is given by $x \\geq 0$ and\n",
    "$$\n",
    "\\begin{aligned}\n",
    "&4-x < 0&\\text{ if }x > 4 \\\\\n",
    "&4-x \\geq 0&\\text{ if }x \\leq 4\n",
    "\\end{aligned}\n",
    "$$"
   ]
  },
  {
   "attachments": {},
   "cell_type": "markdown",
   "id": "dc8568f1",
   "metadata": {},
   "source": [
    "$$\n",
    "\\begin{aligned}\n",
    "E[Z | X = x] &=  1-F_Y (4-x) \\\\ \n",
    "&= 1-\\max \\left\\{ 1-\\exp \\left(\\frac{-(4-x)}{\\lambda_Y} \\right), 0\\right\\} \\\\\n",
    "&= 1-\\max \\left\\{  1-\\exp\\left(\\frac{x-4}{\\lambda_Y}\\right), 0  \\right\\} \\\\\n",
    "&= \\min \\left\\{\\exp\\left(\\frac{x-4}{\\lambda_Y}\\right), 1  \\right\\} \\\\\n",
    "\\end{aligned}\n",
    "$$"
   ]
  },
  {
   "cell_type": "code",
   "execution_count": 12,
   "id": "32230ba9",
   "metadata": {},
   "outputs": [
    {
     "name": "stdout",
     "output_type": "stream",
     "text": [
      "Conditional Monte Carlo conditioning on X: \n",
      "Estimate: 0.51822\n",
      "Confidence Interval: [0.51338 0.52306]\n",
      "Error bar size = 0.00484\n",
      "Error reduction from conditioning on X = 50.60497%\n"
     ]
    }
   ],
   "source": [
    "Z_X = np.minimum(np.exp((X - 4) / 3), 1)\n",
    "\n",
    "zdelta = 1.96\n",
    "var_X = np.var(Z_X)\n",
    "error_X = zdelta * np.sqrt(var_X / N)\n",
    "\n",
    "print(\"Conditional Monte Carlo conditioning on X: \")\n",
    "print(f\"Estimate: {np.mean(Z_X):.5f}\")\n",
    "print(f\"Confidence Interval: {np.round(np.mean(Z_X) + np.array([-1, 1]) * error_X, 5)}\")\n",
    "print(\"Error bar size = {:.5f}\".format(error_X))\n",
    "print(\"Error reduction from conditioning on X = {:.5f}%\".format((1 - error_X / error) * 100))"
   ]
  },
  {
   "attachments": {},
   "cell_type": "markdown",
   "id": "2ee15bbf",
   "metadata": {},
   "source": [
    "We can verify that conditioning on $X$ is more effective by calculating the error\n",
    "reduction from conditioning on $Y$.\n",
    "Notice that we can use the identical derivation of the conditional expection of\n",
    "$Z$ as we did for conditioning on $X$.\n",
    "That is, \n",
    "$$E[Z | Y = y] = \\min \\left\\{\\exp\\left(\\frac{y-4}{\\lambda_X}\\right), 1  \\right\\}$$\n"
   ]
  },
  {
   "cell_type": "code",
   "execution_count": 13,
   "id": "9f58dd79",
   "metadata": {},
   "outputs": [
    {
     "name": "stdout",
     "output_type": "stream",
     "text": [
      "Conditional Monte Carlo conditioning on Y: \n",
      "Estimate: 0.51590\n",
      "Confidence Interval: [0.50926 0.52254]\n",
      "Error bar size = 0.00664\n",
      "Error reduction from conditioning on Y = 32.23308%\n"
     ]
    }
   ],
   "source": [
    "Z_Y = np.minimum(np.exp((Y - 4) / 2), 1)\n",
    "var_Y = np.var(Z_Y)\n",
    "error_Y = zdelta * np.sqrt(var_Y / N)\n",
    "\n",
    "print(\"Conditional Monte Carlo conditioning on Y: \")\n",
    "print(f\"Estimate: {np.mean(Z_Y):.5f}\")\n",
    "print(f\"Confidence Interval: {np.round(np.mean(Z_Y) + np.array([-1, 1]) * error_Y, 5)}\")\n",
    "print(\"Error bar size = {:.5f}\".format(error_Y))\n",
    "print(\"Error reduction from conditioning on Y = {:.5f}%\".format((1 - error_Y / error) * 100))\n"
   ]
  },
  {
   "attachments": {},
   "cell_type": "markdown",
   "id": "a9c5096f",
   "metadata": {},
   "source": [
    "The result is consistent with the reasoning. The error reduction from\n",
    "conditioning on $Y$ is smaller than the one from conditioning on $X$. Therefore,\n",
    "conditioning on $X$ is more effective. "
   ]
  }
 ],
 "metadata": {
  "kernelspec": {
   "display_name": "Python 3 (ipykernel)",
   "language": "python",
   "name": "python3"
  },
  "language_info": {
   "codemirror_mode": {
    "name": "ipython",
    "version": 3
   },
   "file_extension": ".py",
   "mimetype": "text/x-python",
   "name": "python",
   "nbconvert_exporter": "python",
   "pygments_lexer": "ipython3",
   "version": "3.9.15"
  }
 },
 "nbformat": 4,
 "nbformat_minor": 5
}
