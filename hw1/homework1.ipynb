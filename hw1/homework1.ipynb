{
 "cells": [
  {
   "attachments": {},
   "cell_type": "markdown",
   "metadata": {},
   "source": [
    "---\n",
    "title: \"CFRM 505 Homework 2\"\n",
    "author: \"Eunki Chung\"\n",
    "date: today\n",
    "output: pdf_document\n",
    "---"
   ]
  },
  {
   "cell_type": "markdown",
   "metadata": {},
   "source": [
    "# Problem 1\n",
    "\n",
    "Consider the random variables $X$ and $Y$ with the following joint distribution:\n",
    "\n",
    "$$f_{XY}(x, y) = \\left\\{ \\begin{array}{cc} \\frac{xy^2 + 2xy}{Z} & 0 < x, y < 1 \\\\ 0 & \\textrm{ otherwise} \\end{array} \\right.$$\n",
    "\n",
    "where $Z$ is some constant.  Calculate the following quantities analytically (**not** by simulation).\n",
    "\n",
    "1) $\\mathbb{P}\\left[X + Y < 0.5\\right]$\n",
    "\n",
    "2) $\\mathbb{E}[X]$\n",
    "\n",
    "3) $\\textrm{Var}[Y]$\n",
    "\n",
    "4) $\\textrm{Cov}[X, Y]$\n",
    "\n",
    "5) $\\textrm{Corr}[X, Y]$\n",
    "\n",
    "6) $\\mathbb{P}(X > 0.5 \\:\\vert\\: Y > 0.5)$\n",
    "\n",
    "7) $\\mathbb{E}[X \\:\\vert\\: Y = 0.25]$"
   ]
  },
  {
   "cell_type": "markdown",
   "metadata": {},
   "source": [
    "$$f_{XY}(x, y) = \\left\\{ \\begin{array}{cc} \\frac{xy^2 + 2xy}{Z} & 0 < x, y < 1\n",
    "\\\\ 0 & \\textrm{ otherwise} \\end{array} \\right.$$\n",
    "\n",
    "$$\n",
    "a + b\n",
    "$$\n",
    "\n"
   ]
  },
  {
   "cell_type": "code",
   "execution_count": 1,
   "metadata": {},
   "outputs": [
    {
     "data": {
      "image/png": "[encoded data removed]",
      "text/plain": [
       "<Figure size 360x360 with 1 Axes>"
      ]
     },
     "metadata": {
      "needs_background": "light"
     },
     "output_type": "display_data"
    }
   ],
   "source": [
    "import matplotlib.pyplot as plt\n",
    "import numpy as np\n",
    "fig, ax = plt.subplots(figsize=(5, 5))\n",
    "plt.xlim(-1, 2.5)\n",
    "plt.ylim(-1, 2.5)\n",
    "x = np.linspace(-1,3)\n",
    "ax.axhline(y=0, color='k')\n",
    "ax.axhline(y=1, color='k', alpha=0.5, lw=1)\n",
    "ax.axvline(x=0, color='k')\n",
    "y = np.linspace(0, 1)\n",
    "high, low = y, y+1\n",
    "ax.plot(x, x, c='r', lw=1)\n",
    "ax.plot(x, x-1, c='r', lw=1)\n",
    "plt.fill_betweenx(y, low, high, color='green',\n",
    "                 alpha=0.5)\n",
    "plt.vlines(x=1, ls='--', ymin=0.0, ymax= 1., )\n",
    "plt.text(0.55, 0.7, r\"$u$\")                \n",
    "plt.text(1.5, 0.3, r\"$u+1$\")\n",
    "plt.xlabel(r'$u$')                \n",
    "plt.ylabel(r'$v$')                \n",
    "ax.grid()\n",
    "plt.savefig(\"assets/support.png\", bbox_inches=\"tight\")\n"
   ]
  },
  {
   "cell_type": "code",
   "execution_count": 2,
   "metadata": {},
   "outputs": [
    {
     "name": "stdout",
     "output_type": "stream",
     "text": [
      "1 0.09090909090909091\n",
      "6 0.5454545454545454\n",
      "3 0.2727272727272727\n",
      "7 0.6363636363636364\n",
      "9 0.8181818181818182\n",
      "10 0.9090909090909091\n",
      "5 0.45454545454545453\n",
      "8 0.7272727272727273\n",
      "4 0.36363636363636365\n",
      "2 0.18181818181818182\n",
      "1 0.09090909090909091\n",
      "6 0.5454545454545454\n",
      "3 0.2727272727272727\n",
      "7 0.6363636363636364\n",
      "9 0.8181818181818182\n",
      "10 0.9090909090909091\n",
      "5 0.45454545454545453\n",
      "8 0.7272727272727273\n",
      "4 0.36363636363636365\n",
      "2 0.18181818181818182\n"
     ]
    }
   ],
   "source": [
    "class LinearCongruentialGenerator():\n",
    "    def __init__(self, seed, multiplier, modulus) -> None:\n",
    "        self.state = seed\n",
    "        self.multiplier = multiplier\n",
    "        self.modulus = modulus\n",
    "    def step(self):\n",
    "        self.state = self.multiplier * self.state % self.modulus\n",
    "    def sample(self):\n",
    "        return self.state / self.modulus\n",
    "rng = LinearCongruentialGenerator(1, 6, 11)\n",
    "for _ in range(20):\n",
    "    print(rng.state, rng.sample())\n",
    "    rng.step()"
   ]
  },
  {
   "cell_type": "code",
   "execution_count": 3,
   "metadata": {},
   "outputs": [
    {
     "name": "stdout",
     "output_type": "stream",
     "text": [
      "1 0.09090909090909091\n",
      "3 0.2727272727272727\n",
      "9 0.8181818181818182\n",
      "5 0.45454545454545453\n",
      "4 0.36363636363636365\n",
      "1 0.09090909090909091\n",
      "3 0.2727272727272727\n",
      "9 0.8181818181818182\n",
      "5 0.45454545454545453\n",
      "4 0.36363636363636365\n"
     ]
    }
   ],
   "source": [
    "rng = LinearCongruentialGenerator(1, 3, 11)\n",
    "\n",
    "for _ in range(10):\n",
    "    print(rng.state, rng.sample())\n",
    "    rng.step()"
   ]
  },
  {
   "cell_type": "code",
   "execution_count": 4,
   "metadata": {},
   "outputs": [
    {
     "name": "stdout",
     "output_type": "stream",
     "text": [
      "0 1 0.09090909090909091\n",
      "1 9 0.8181818181818182\n",
      "2 4 0.36363636363636365\n",
      "3 3 0.2727272727272727\n",
      "4 5 0.45454545454545453\n",
      "5 1 0.09090909090909091\n",
      "6 9 0.8181818181818182\n",
      "7 4 0.36363636363636365\n",
      "8 3 0.2727272727272727\n",
      "9 5 0.45454545454545453\n",
      "10 1 0.09090909090909091\n",
      "11 9 0.8181818181818182\n",
      "12 4 0.36363636363636365\n",
      "13 3 0.2727272727272727\n",
      "14 5 0.45454545454545453\n",
      "15 1 0.09090909090909091\n",
      "16 9 0.8181818181818182\n",
      "17 4 0.36363636363636365\n",
      "18 3 0.2727272727272727\n",
      "19 5 0.45454545454545453\n"
     ]
    }
   ],
   "source": [
    "rng = LinearCongruentialGenerator(1, 9, 11)\n",
    "\n",
    "for i in range(20):\n",
    "    print(i, rng.state, rng.sample())\n",
    "    rng.step()"
   ]
  },
  {
   "cell_type": "markdown",
   "metadata": {},
   "source": [
    "\\pagebreak\n",
    "\n",
    "# Problem 2\n",
    "\n",
    "Use Monte Carlo integration to estimate\n",
    "\n",
    "$$\\int_{-2}^{3}3x^2 + 2x\\,\\textrm{d}x$$\n",
    "\n",
    "(The exact answer is 40.  You don't need to rederive it.)\n",
    "\n",
    "Use a sample size of at least $n = 100,000$."
   ]
  },
  {
   "cell_type": "markdown",
   "metadata": {},
   "source": [
    "Let $u = \\frac{1}{5}x + \\frac{2}{5} \\Leftrightarrow x = 5u - 2,\\quad\n",
    "\\frac{dx}{du} = 5$ \n",
    "\\begin{align*}\n",
    "    \\int_{-2}^{3}3x^2 + 2x\\,dx &= \\int_{0}^{1} (3(5u - 2)^2 + 2(5u - 2)) \\frac{dx}{du} \\,du  \\\\ \n",
    "    &= \\int^{1}_{0} ( 3(25u^{2} - 20u + 4) + 10u - 4) \\cdot 5\\,du \\\\ \n",
    "    &= \\int_{0}^{1}\\left( 75u^{2} - 60u + 12 + 10u - 4 \\right) \\cdot 5\\,du \\\\ \n",
    "    &= \\int^{1}_{0} 375u^{2} - 250u + 40 \\,du \\\\ \n",
    "    &= E[f(U)]\n",
    "\\end{align*}\n",
    "$\\quad \\text{where } U \\sim \\text{Unif}(0,1)\\text{ and }f(u) = 375u^{2} - 250u +\n",
    "40$"
   ]
  },
  {
   "cell_type": "markdown",
   "metadata": {},
   "source": [
    "By default, `np.random.random()` method uses Mersenne Twister algorithm (`MT19937`) for its Pesudo Random Number Generator(PRNG).\n",
    "However, the official numpy documentation recommends to use other modern PRNG\n",
    "instead of `MT19937`, since `MT19937` fails some statiscal tests and does not have\n",
    "any significant advantage in its generation speed. \n",
    "\n",
    "Therefore, for the generation of Uniform random samples, I used\n",
    "Permutation Congruential Generator (`PCG64`) as recommended.\n",
    "\n",
    "In addition, I used parallel processing to generate very large numbers of\n",
    "sample. As shown in below, multi-threaded generatior made a significant improvement \n",
    "in speed compared to a single-threaded generator.\n",
    "\n",
    "Ref: https://numpy.org/doc/stable/reference/random/performance.html"
   ]
  },
  {
   "cell_type": "code",
   "execution_count": 5,
   "metadata": {},
   "outputs": [],
   "source": [
    "import numpy as np\n",
    "rng = np.random.default_rng(12)\n",
    "# Use Permutation Congruential Generator(PCG64) instead of Mersenne Twister(MT19937)"
   ]
  },
  {
   "cell_type": "code",
   "execution_count": 6,
   "metadata": {},
   "outputs": [],
   "source": [
    "from numpy.random import default_rng, SeedSequence\n",
    "import multiprocessing\n",
    "import concurrent.futures\n",
    "import numpy as np\n",
    "\n",
    "class MultithreadedRNG:\n",
    "    def __init__(self, n, seed=None, threads=None):\n",
    "        if threads is None:\n",
    "            threads = multiprocessing.cpu_count()\n",
    "        self.threads = threads\n",
    "\n",
    "        seq = SeedSequence(seed)\n",
    "        self._random_generators = [default_rng(s)\n",
    "                                   for s in seq.spawn(threads)]\n",
    "\n",
    "        self.n = n\n",
    "        self.executor = concurrent.futures.ThreadPoolExecutor(threads)\n",
    "        self.values = np.empty(n)\n",
    "        self.step = np.ceil(n / threads).astype(np.int_)\n",
    "\n",
    "    def fill(self):\n",
    "        def _fill(random_state, out, first, last):\n",
    "            random_state.random(out=out[first:last])\n",
    "\n",
    "        futures = {}\n",
    "        for i in range(self.threads):\n",
    "            args = (_fill,\n",
    "                    self._random_generators[i],\n",
    "                    self.values,\n",
    "                    i * self.step,\n",
    "                    (i + 1) * self.step)\n",
    "            futures[self.executor.submit(*args)] = i\n",
    "        concurrent.futures.wait(futures)\n",
    "\n",
    "    def __del__(self):\n",
    "        self.executor.shutdown(False)"
   ]
  },
  {
   "cell_type": "code",
   "execution_count": 7,
   "metadata": {},
   "outputs": [],
   "source": [
    "mrng = MultithreadedRNG(100_000_000, seed=12)"
   ]
  },
  {
   "cell_type": "code",
   "execution_count": 8,
   "metadata": {},
   "outputs": [
    {
     "name": "stdout",
     "output_type": "stream",
     "text": [
      "Single Thread\n",
      "437 ms ± 19.5 ms per loop (mean ± std. dev. of 7 runs, 1 loop each)\n",
      "Multi Thread (num_threads=8)\n",
      "75.1 ms ± 1.5 ms per loop (mean ± std. dev. of 7 runs, 10 loops each)\n"
     ]
    }
   ],
   "source": [
    "from timeit import timeit\n",
    "print(\"Single Thread\")\n",
    "value = np.empty(100_000_000)\n",
    "%timeit rng.random(out=value)\n",
    "print(f\"Multi Thread (num_threads={mrng.threads})\")\n",
    "%timeit mrng.fill()"
   ]
  },
  {
   "cell_type": "code",
   "execution_count": 9,
   "metadata": {},
   "outputs": [
    {
     "name": "stderr",
     "output_type": "stream",
     "text": [
      "100%|██████████| 1000/1000 [06:32<00:00,  2.55it/s]\n"
     ]
    }
   ],
   "source": [
    "from tqdm import tqdm\n",
    "val = 0.\n",
    "ests = []\n",
    "for i in tqdm(range(1000)):\n",
    "    mrng.fill()\n",
    "    smpls = mrng.values\n",
    "    val += np.sum(375 * (smpls ** 2) - 250 * smpls + 40)\n",
    "    ests.append(val / ((i+1) * int(1e8)))"
   ]
  },
  {
   "cell_type": "code",
   "execution_count": 10,
   "metadata": {},
   "outputs": [
    {
     "data": {
      "image/png": "[encoded data removed]",
      "text/plain": [
       "<Figure size 432x288 with 1 Axes>"
      ]
     },
     "metadata": {
      "needs_background": "light"
     },
     "output_type": "display_data"
    }
   ],
   "source": [
    "import matplotlib.pyplot as plt\n",
    "plt.plot(ests)\n",
    "plt.axhline(40, color='red', label=\"Actual value (40)\")\n",
    "plt.xlabel(\"Sample size (in units of 100M=1e8)\")\n",
    "plt.legend()\n",
    "plt.title(\"Monte Carlo estimate as sample size increases\")\n",
    "plt.show()"
   ]
  },
  {
   "cell_type": "code",
   "execution_count": 11,
   "metadata": {},
   "outputs": [
    {
     "name": "stdout",
     "output_type": "stream",
     "text": [
      "Monte Carlo estimate  = 40.0000533971071\n",
      "Theoretical value     = 40\n"
     ]
    }
   ],
   "source": [
    "print(f\"{'Monte Carlo estimate ': <21} = {ests[-1]}\")\n",
    "print(f\"{'Theoretical value ': <21} = {40}\")"
   ]
  },
  {
   "cell_type": "markdown",
   "metadata": {},
   "source": [
    "# Problem 3\n",
    "\n",
    "Use Monte Carlo integration to estimate\n",
    "\n",
    "$$\\int_{0}^{\\infty}\\int_{0}^{1}\\frac{xy}{1 + x^4}\\,\\textrm{d}y\\textrm{d}x$$\n",
    "\n",
    "(The exact answer is $\\pi/8$.  You don't need to rederive it.)\n",
    "\n",
    "Use a sample size of at least $n = 100,000$."
   ]
  },
  {
   "cell_type": "markdown",
   "metadata": {},
   "source": [
    "Let $z = \\frac{x}{1+x} = \\frac{1}{\\frac{1}{x} + 1} \\Leftrightarrow x = \\dfrac{z}{1-z},\n",
    "\\quad \\dfrac{dx}{dz} = \\dfrac{1}{\\left( 1-z\\right) ^{2}} $"
   ]
  },
  {
   "cell_type": "markdown",
   "metadata": {},
   "source": [
    "Notice that $0 < x < \\infty \\Leftrightarrow 0 < z < 1$ since \n",
    "    $$\\lim_{x \\rightarrow 0+} \\frac{1}{\\frac{1}{x} + 1} = 0, \\quad \n",
    "    \\lim_{x \\rightarrow \\infty} \\frac{1}{\\frac{1}{x} + 1} = 1$$\n",
    "\\begin{align*}\n",
    "    \\int_{0}^{\\infty}\\int_{0}^{1}\\frac{xy}{1 + x^4}\\,\\textrm{d}y\\textrm{d}x &= \n",
    "    \\int_{0}^{1} \\int_{0}^{1} \\dfrac{\\dfrac{z}{1-z}y}{1+\\left( \\dfrac{z}{1-z}\\right) ^{4}}\\cdot \\dfrac{1}{\\left( 1-z\\right) ^{2}}\\,dx\\,dz \\\\\n",
    "    &= \\int_{0}^{1} \\int_{0}^{1} \\dfrac{\\dfrac{z}{(1-z)^3}}{1+\\dfrac{z^{4}}{\\left( 1-z\\right) ^{4}}}y \\,dz\\,dy \\\\\n",
    "    &= \\int_{0}^{1} \\int^{1}_{0} \\dfrac{\\left( 1-z\\right) \\cdot z}{\\left( 1-z\\right) ^{4}+z^{4}}y \\,dz\\,dy \\\\ \n",
    "    &= E[f(Z) \\cdot Y]  \n",
    "\\end{align*}\n",
    "    where $Y,\\ Z \\overset{\\mathrm{\\text{iid}}}{\\sim} \\text{Unif}(0, 1)$ and $f(z) = \\dfrac{\\left(1-z\\right) \\cdot z}{\\left( 1-z\\right)^{4}+z^{4}}$"
   ]
  },
  {
   "cell_type": "code",
   "execution_count": 12,
   "metadata": {},
   "outputs": [
    {
     "name": "stdout",
     "output_type": "stream",
     "text": [
      "Monte Carlo estimate  = 0.39275503717035704\n",
      "Theoretical value     = 0.39269908169872414\n"
     ]
    }
   ],
   "source": [
    "u1 = mrng.values.copy()\n",
    "mrng.fill()\n",
    "u2 = mrng.values.copy()\n",
    "est = np.mean((((1-u1) * u1) / ((1-u1) ** 4 + u1 ** 4)) * u2)\n",
    "print(f\"{'Monte Carlo estimate ' : <21} = {est}\")\n",
    "print(f\"{'Theoretical value ' : <21} = {np.pi / 8}\")"
   ]
  },
  {
   "cell_type": "markdown",
   "metadata": {},
   "source": [
    "# Problem 4\n",
    "\n",
    "Let $U \\sim U(0, 1)$ and $X = 1 - U$.  Use Monte Carlo simulation to confirm that\n",
    "\n",
    "$$\\mathbb{E}[X] = \\frac{1}{2} \\:\\textrm{ and }\\: \\textrm{Var}[X] = \\frac{1}{12} \\:\\textrm{ and }\\: \\textrm{Cov}[U, X] = -\\frac{1}{12}$$\n",
    "\n",
    "Use a sample size of at least $n = 100,000$."
   ]
  },
  {
   "cell_type": "code",
   "execution_count": 13,
   "metadata": {},
   "outputs": [],
   "source": [
    "u = mrng.values\n",
    "x = 1 - u"
   ]
  },
  {
   "cell_type": "code",
   "execution_count": 14,
   "metadata": {},
   "outputs": [
    {
     "name": "stdout",
     "output_type": "stream",
     "text": [
      "Monte Carlo estimates\n",
      "---------------------------------------------\n",
      "E[X]       = 0.4999481238364926\n",
      "Var[X]     = 0.08332875314388954\n",
      "Cov[U, X]  = -0.08332875314388954\n",
      "--------------------------------------------- \n",
      "\n",
      "Theoretical values\n",
      "---------------------------------------------\n",
      "E[X]       = 0.5\n",
      "Var[X]     = 0.08333333333333333\n",
      "Cov[U, X]  = -0.08333333333333333\n"
     ]
    }
   ],
   "source": [
    "print(\"Monte Carlo estimates\")\n",
    "print(\"---\" * 15)\n",
    "print(f\"{'E[X] ' : <10} = {np.mean(x)}\")\n",
    "print(f\"{'Var[X] ': <10} = {np.cov(u,x)[0,0]}\")\n",
    "print(f\"{'Cov[U, X] ': <10} = {np.cov(u,x)[0,1]}\")\n",
    "print(\"---\" * 15, \"\\n\")\n",
    "print(\"Theoretical values\")\n",
    "print(\"---\" * 15)\n",
    "print(f\"{'E[X] ' : <10} = {1/2}\")\n",
    "print(f\"{'Var[X] ': <10} = {1/12}\")\n",
    "print(f\"{'Cov[U, X] ': <10} = {-1/12}\")"
   ]
  },
  {
   "cell_type": "markdown",
   "metadata": {},
   "source": [
    "# Problem 5\n",
    "\n",
    "Let $U_1$ and $U_2$ be i.i.d. uniform random variables on $(0, 1)$.  Define $X = \\textrm{max}(U_1, U_2)$.  Derive the following by hand and then use Monte carlo simulation to estimate them:\n",
    "\n",
    "1) $\\mathbb{E}[X]$\n",
    "\n",
    "2) $\\mathbb{P}[X < 0.25]$\n",
    "\n",
    "Use a sample size of at least $n = 100,000$ for each part."
   ]
  },
  {
   "cell_type": "markdown",
   "metadata": {},
   "source": [
    "$$X = \\max(U_{1},U_{2}), \\quad \\text{where } U_{1},U_{2} \\overset{\\text{iid}}{\\sim} \\text{Unif}\\left( 0,1\\right)$$\n",
    "<!-- \\begin{align*}\n",
    "    P(X \\leq x) &= P(\\max \\left( U_{1},U_{2}\\right) \\leq x)  \\\\ \n",
    "    &= P(U_{1} \\leq x) \\cdot P\\left( U_{2}\\leq x\\right)  \\\\ \n",
    "    &= \\int _{0}^{x}1\\,du_1 \\cdot \\int _{0}^{x}1\\,du_{2} \\\\ \n",
    "    &= x^2 \n",
    "\\end{align*}\n",
    "By definition of cdf, \\\\\n",
    "$$F_X(x) = P(X \\leq x) = \\begin{cases}\n",
    "    1 & 1 \\leq x \\\\\n",
    "    x^2 & 0 < x < 1 \\\\ \n",
    "    0 & x \\leq 0\n",
    "\\end{cases}$$ \\\\ \n",
    "and the pdf is \\\\\n",
    "$$f_X(x) =\n",
    "F'_X(x) = \\begin{cases}\n",
    "    2x & 0 < x < 1 \\\\\n",
    "    0 & o.w.\n",
    "\\end{cases}$$.\n",
    "\\\\\n",
    "\\subsection*{1)}\n",
    "\\begin{align*}\n",
    "    E[X] &= \\int_{0}^{1}x f_X(x) \\,dx \\\\\n",
    "    &= \\int_{0}^{1} 2x^2 \\,dx \\\\\n",
    "    &= \\left. \\frac{2}{3}x^3 \\right|^1_0  \\\\ \n",
    "    &= \\frac{2}{3} \\\\\n",
    "\\end{align*}\n",
    "\\subsection*{2)}\n",
    "$$P(X \\leq 0.25) = F_X\\left(\\frac{1}{4}\\right) = \\frac{1}{16}$$ -->\n"
   ]
  },
  {
   "cell_type": "markdown",
   "metadata": {},
   "source": [
    "\\begin{align*}\n",
    "    P(X \\leq x) &= P(\\max \\left( U_{1},U_{2}\\right) \\leq x)  \\\\ \n",
    "    &= P(U_{1} \\leq x) \\cdot P\\left( U_{2}\\leq x\\right)  \\\\ \n",
    "    &= \\int _{0}^{x}1\\,du_1 \\cdot \\int _{0}^{x}1\\,du_{2} \\\\ \n",
    "    &= x^2 \n",
    "\\end{align*}\n",
    "By definition of cdf,\n",
    "$$F_X(x) = P(X \\leq x) = \n",
    "\\begin{cases}\n",
    "    1 & 1 \\leq x \\\\\n",
    "    x^2 & 0 < x < 1 \\\\ \n",
    "    0 & x \\leq 0 \\\\\n",
    "\\end{cases}$$  \n",
    "and the pdf is\n",
    "$$f_X(x) = F'_X(x) = \n",
    "\\begin{cases}\n",
    "    2x & 0 < x < 1 \\\\\n",
    "    0 & o.w. \\\\\n",
    "\\end{cases}$$"
   ]
  },
  {
   "cell_type": "markdown",
   "metadata": {},
   "source": [
    "### 1)  \n",
    "\n",
    "\\begin{align*}\n",
    "    E[X] &= \\int_{0}^{1}x f_X(x) \\,dx \\\\\n",
    "    &= \\int_{0}^{1} 2x^2 \\,dx \\\\\n",
    "    &= \\left. \\frac{2}{3}x^3 \\right|^1_0  \\\\ \n",
    "    &= \\frac{2}{3} \\\\\n",
    "\\end{align*}"
   ]
  },
  {
   "cell_type": "markdown",
   "metadata": {},
   "source": [
    "### 2) \n",
    "\n",
    "$$P(X \\leq 0.25) = F_X\\left(\\frac{1}{4}\\right) = \\frac{1}{16}$$"
   ]
  },
  {
   "cell_type": "code",
   "execution_count": 15,
   "metadata": {},
   "outputs": [],
   "source": [
    "x = np.max([u1, u2], axis=0)"
   ]
  },
  {
   "cell_type": "code",
   "execution_count": 16,
   "metadata": {},
   "outputs": [
    {
     "name": "stdout",
     "output_type": "stream",
     "text": [
      "Monte Carlo estimate = 0.66668394507005\n",
      "Theoretical value    = 0.6666666666666666\n"
     ]
    }
   ],
   "source": [
    "print(f\"{'Monte Carlo estimate ': <21}\" + f\"= {np.mean(x)}\")\n",
    "print(f\"{'Theoretical value ': <21}\" + f\"= {2/3}\")"
   ]
  },
  {
   "cell_type": "code",
   "execution_count": 17,
   "metadata": {},
   "outputs": [
    {
     "name": "stdout",
     "output_type": "stream",
     "text": [
      "Monte Carlo estimate = 0.06248674\n",
      "Theoretical value    = 0.0625\n"
     ]
    }
   ],
   "source": [
    "print(f\"{'Monte Carlo estimate ': <21}\" + f\"= {np.mean(x < 0.25)}\")\n",
    "print(f\"{'Theoretical value ': <21}\" + f\"= {1/16}\")"
   ]
  },
  {
   "cell_type": "code",
   "execution_count": null,
   "metadata": {},
   "outputs": [],
   "source": []
  }
 ],
 "metadata": {
  "kernelspec": {
   "display_name": "Python 3",
   "language": "python",
   "name": "python3"
  },
  "language_info": {
   "codemirror_mode": {
    "name": "ipython",
    "version": 3
   },
   "file_extension": ".py",
   "mimetype": "text/x-python",
   "name": "python",
   "nbconvert_exporter": "python",
   "pygments_lexer": "ipython3",
   "version": "3.10.8"
  },
  "varInspector": {
   "cols": {
    "lenName": 16,
    "lenType": 16,
    "lenVar": 40
   },
   "kernels_config": {
    "python": {
     "delete_cmd_postfix": "",
     "delete_cmd_prefix": "del ",
     "library": "var_list.py",
     "varRefreshCmd": "print(var_dic_list())"
    },
    "r": {
     "delete_cmd_postfix": ") ",
     "delete_cmd_prefix": "rm(",
     "library": "var_list.r",
     "varRefreshCmd": "cat(var_dic_list()) "
    }
   },
   "types_to_exclude": [
    "module",
    "function",
    "builtin_function_or_method",
    "instance",
    "_Feature"
   ],
   "window_display": false
  },
  "vscode": {
   "interpreter": {
    "hash": "4be57fc3c6cfb7afa0d84f5e84de2d968d209cac7f832685936e0cd317686d36"
   }
  }
 },
 "nbformat": 4,
 "nbformat_minor": 1
}
